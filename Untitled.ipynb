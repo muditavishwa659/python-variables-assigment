{
 "cells": [
  {
   "cell_type": "markdown",
   "id": "7e7f7d60-be67-4461-abca-b4f7d2105486",
   "metadata": {},
   "source": [
    "python vabriables-assignment questions."
   ]
  },
  {
   "cell_type": "markdown",
   "id": "50c42075-60bc-4277-8918-2b7d216d6e05",
   "metadata": {
    "tags": []
   },
   "source": [
    "Q1- \n",
    "answer-The conventions are as followe:\n",
    "-has to start with an alphabet or underscore\n",
    "-cannot start with a number\n",
    "-can only contian alphabets and a-z and numbers 0-9\n",
    "-are case sensitive\n",
    "-cannot have any other special characters other than (_)."
   ]
  },
  {
   "cell_type": "markdown",
   "id": "9f1270db-f7fb-4d0a-be61-c0e367c99db3",
   "metadata": {},
   "source": [
    "Q2-\n",
    "answer-synatx error"
   ]
  },
  {
   "cell_type": "markdown",
   "id": "dfc6ab28-337d-4860-bfc2-27247f022680",
   "metadata": {},
   "source": [
    "Q3-\n",
    "answer-yes"
   ]
  },
  {
   "cell_type": "markdown",
   "id": "ff19669b-c373-44aa-9b24-e698e1e70889",
   "metadata": {},
   "source": [
    "Q4-\n",
    "answer-yes\n",
    "example:"
   ]
  },
  {
   "cell_type": "code",
   "execution_count": 4,
   "id": "d33dbfab-d6ac-4192-8e39-71980299e025",
   "metadata": {},
   "outputs": [],
   "source": [
    "_=10\n",
    "x=20"
   ]
  },
  {
   "cell_type": "code",
   "execution_count": 5,
   "id": "2945785a-48a3-4401-a838-a8ed62c51a4c",
   "metadata": {},
   "outputs": [
    {
     "data": {
      "text/plain": [
       "30"
      ]
     },
     "execution_count": 5,
     "metadata": {},
     "output_type": "execute_result"
    }
   ],
   "source": [
    "_+x"
   ]
  },
  {
   "cell_type": "markdown",
   "id": "fc09061f-f571-4344-b0eb-264ba586dd06",
   "metadata": {},
   "source": [
    "Q5-\n",
    "answer-\n",
    "type of variabes in python are only determined while running the code.\n",
    "example:"
   ]
  },
  {
   "cell_type": "code",
   "execution_count": 19,
   "id": "72c52dc6-ec70-4761-ad15-4e33e4604456",
   "metadata": {},
   "outputs": [],
   "source": [
    "a=45"
   ]
  },
  {
   "cell_type": "code",
   "execution_count": 15,
   "id": "1dff05cd-53d8-4cc2-a8d6-9a609f6cd323",
   "metadata": {},
   "outputs": [],
   "source": [
    "i=6j"
   ]
  },
  {
   "cell_type": "code",
   "execution_count": 17,
   "id": "30025870-7c85-472c-9a27-f4c3b9828cad",
   "metadata": {},
   "outputs": [
    {
     "data": {
      "text/plain": [
       "complex"
      ]
     },
     "execution_count": 17,
     "metadata": {},
     "output_type": "execute_result"
    }
   ],
   "source": [
    "type(i)"
   ]
  },
  {
   "cell_type": "code",
   "execution_count": 21,
   "id": "28577133-b2c0-453f-8971-3f1dcad7f803",
   "metadata": {},
   "outputs": [
    {
     "data": {
      "text/plain": [
       "int"
      ]
     },
     "execution_count": 21,
     "metadata": {},
     "output_type": "execute_result"
    }
   ],
   "source": [
    "type(x)"
   ]
  },
  {
   "cell_type": "code",
   "execution_count": 22,
   "id": "582df2f7-d676-47b7-97b9-7c8470d6a39c",
   "metadata": {},
   "outputs": [
    {
     "data": {
      "text/plain": [
       "int"
      ]
     },
     "execution_count": 22,
     "metadata": {},
     "output_type": "execute_result"
    }
   ],
   "source": [
    "type(a)"
   ]
  },
  {
   "cell_type": "code",
   "execution_count": 23,
   "id": "bab95de6-290c-425d-9826-f71a84bc8d51",
   "metadata": {},
   "outputs": [],
   "source": [
    "x=18j"
   ]
  },
  {
   "cell_type": "code",
   "execution_count": 24,
   "id": "c5615bd7-a3a2-4969-aad9-e2136f88d95d",
   "metadata": {},
   "outputs": [
    {
     "data": {
      "text/plain": [
       "complex"
      ]
     },
     "execution_count": 24,
     "metadata": {},
     "output_type": "execute_result"
    }
   ],
   "source": [
    "type(x)"
   ]
  },
  {
   "cell_type": "markdown",
   "id": "050250bb-3b03-4342-b1f7-54800c93e1d7",
   "metadata": {},
   "source": [
    "second value of x overwrites the first value of x."
   ]
  }
 ],
 "metadata": {
  "kernelspec": {
   "display_name": "Python 3 (ipykernel)",
   "language": "python",
   "name": "python3"
  },
  "language_info": {
   "codemirror_mode": {
    "name": "ipython",
    "version": 3
   },
   "file_extension": ".py",
   "mimetype": "text/x-python",
   "name": "python",
   "nbconvert_exporter": "python",
   "pygments_lexer": "ipython3",
   "version": "3.10.8"
  }
 },
 "nbformat": 4,
 "nbformat_minor": 5
}
